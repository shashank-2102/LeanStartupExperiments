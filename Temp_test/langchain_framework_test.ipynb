{
 "cells": [
  {
   "cell_type": "markdown",
   "metadata": {},
   "source": [
    "# Links\n",
    "https://github.com/langchain-ai/langgraph/blob/main/docs/docs/tutorials/multi_agent/agent_supervisor.ipynb \\\n",
    "https://python.langchain.com/docs/integrations/tools/tavily_search/ \\\n",
    "https://tavily.com/ \\\n",
    "https://python.langchain.com/docs/integrations/chat/openai/"
   ]
  },
  {
   "cell_type": "code",
   "execution_count": 1,
   "metadata": {},
   "outputs": [],
   "source": [
    "#%%capture --no-stderr\n",
    "#%pip install -U langgraph langchain_community langchain_anthropic langchain_experimental\n",
    "#%pip install -U langchain-openai"
   ]
  },
  {
   "cell_type": "code",
   "execution_count": 2,
   "metadata": {},
   "outputs": [],
   "source": [
    "import getpass\n",
    "import os\n",
    "from dotenv import load_dotenv\n",
    "\n",
    "\n",
    "def _set_if_undefined(var: str):\n",
    "    if not os.getenv(var):\n",
    "        os.environ[var] = getpass.getpass(f\"Please provide your {var}\")\n",
    "        #print(\"API key error\")\n",
    "\n",
    "_set_if_undefined(\"OPENAI_API_KEY\")\n",
    "_set_if_undefined(\"TAVILY_API_KEY\")"
   ]
  },
  {
   "cell_type": "markdown",
   "metadata": {},
   "source": [
    "## Create Tools"
   ]
  },
  {
   "cell_type": "code",
   "execution_count": 3,
   "metadata": {},
   "outputs": [],
   "source": [
    "from typing import Annotated\n",
    "\n",
    "from langchain_community.tools.tavily_search import TavilySearchResults\n",
    "from langchain_core.tools import tool\n",
    "from langchain_experimental.utilities import PythonREPL\n",
    "\n",
    "tavily_tool = TavilySearchResults(max_results=5)\n",
    "\n",
    "# This executes code locally, which can be unsafe\n",
    "repl = PythonREPL()\n",
    "\n",
    "\n",
    "@tool\n",
    "def python_repl_tool(\n",
    "    code: Annotated[str, \"The python code to execute to generate your chart.\"],\n",
    "):\n",
    "    \"\"\"Use this to execute python code and do math. If you want to see the output of a value,\n",
    "    you should print it out with `print(...)`. This is visible to the user.\"\"\"\n",
    "    try:\n",
    "        result = repl.run(code)\n",
    "    except BaseException as e:\n",
    "        return f\"Failed to execute. Error: {repr(e)}\"\n",
    "    result_str = f\"Successfully executed:\\n```python\\n{code}\\n```\\nStdout: {result}\"\n",
    "    return result_str "
   ]
  },
  {
   "cell_type": "code",
   "execution_count": 4,
   "metadata": {},
   "outputs": [],
   "source": [
    "#promt loader\n",
    "\n",
    "def load_prompt(file_name: str, name: str):\n",
    "    with open(f\"prompts/{file_name}.txt\", \"r\", encoding='utf-8') as file:\n",
    "        name = file.read()\n",
    "    return name\n",
    "\n",
    "#load_prompt(\"Agent_A_test\", \"Agent_A_prompt\")"
   ]
  },
  {
   "cell_type": "markdown",
   "metadata": {},
   "source": [
    "## Create Agent Supervisor"
   ]
  },
  {
   "cell_type": "code",
   "execution_count": 5,
   "metadata": {},
   "outputs": [],
   "source": [
    "from typing import Literal\n",
    "from typing_extensions import TypedDict\n",
    "\n",
    "#from langchain_anthropic import ChatAnthropic\n",
    "from langchain_openai import ChatOpenAI\n",
    "from langgraph.graph import MessagesState, END\n",
    "from langgraph.types import Command\n",
    "\n",
    "\n",
    "members = [\"Input_Checker\", \"doubler\", \"texter\"]\n",
    "# Our team supervisor is an LLM node. It just picks the next agent to process\n",
    "# and decides when the work is completed\n",
    "options = members + [\"FINISH\"]\n",
    "\n",
    "system_prompt = (\n",
    "    \"You are a supervisor tasked with managing a conversation between the\"\n",
    "    f\" following workers: {members}. Given the following user request,\"\n",
    "    \" respond with the worker to act next. Each worker will perform a\"\n",
    "    \" task and respond with their results and status. When finished,\"\n",
    "    \" respond with FINISH.\"\n",
    "    \" if the input agent says the input is invalid respond with FINISH and tell the user the input is invalid.\"\n",
    ")\n",
    "\n",
    "\n",
    "class Router(TypedDict):\n",
    "    \"\"\"Worker to route to next. If no workers needed, route to FINISH.\"\"\"\n",
    "\n",
    "    next: Literal[*options]\n",
    "\n",
    "\n",
    "llm = ChatOpenAI(\n",
    "    model=\"gpt-4o\",\n",
    "    temperature=0,\n",
    "    max_tokens=None,\n",
    "    timeout=None,\n",
    "    max_retries=2,\n",
    ")\n",
    "\n",
    "\n",
    "class State(MessagesState):\n",
    "    next: str\n",
    "\n",
    "\n",
    "def supervisor_node(state: State) -> Command[Literal[*members, \"__end__\"]]:\n",
    "    messages = [\n",
    "        {\"role\": \"system\", \"content\": system_prompt},\n",
    "    ] + state[\"messages\"]\n",
    "    response = llm.with_structured_output(Router).invoke(messages)\n",
    "    goto = response[\"next\"]\n",
    "    if goto == \"FINISH\":\n",
    "        goto = END\n",
    "\n",
    "    return Command(goto=goto, update={\"next\": goto})"
   ]
  },
  {
   "cell_type": "markdown",
   "metadata": {},
   "source": [
    "## Construct Graph"
   ]
  },
  {
   "cell_type": "code",
   "execution_count": 6,
   "metadata": {},
   "outputs": [],
   "source": [
    "from langchain_core.messages import HumanMessage\n",
    "from langgraph.graph import StateGraph, START, END\n",
    "from langgraph.prebuilt import create_react_agent\n",
    "\n",
    "input_agent = create_react_agent(\n",
    "    llm, tools=[], prompt=\"You are the input agent. You will ensure that the input only contains numbers (integer). If user input is not a number tell the supervisor the input is rejected and that the user should input a number (go straight to end skip other nodes). Say what the input was and if it was a number or not (if its not go to END).\"\n",
    ")\n",
    "\n",
    "double_agent = create_react_agent(\n",
    "    llm, tools=[], prompt=\"You are a doubler. Double the number given (integer). Say what you input was and your result.\"\n",
    ")\n",
    "\n",
    "def input_node(state: State) -> Command[Literal[\"supervisor\"]]:\n",
    "    result = input_agent.invoke(state)\n",
    "    \n",
    "\n",
    "    return Command(\n",
    "        update={\n",
    "            \"messages\": [\n",
    "                HumanMessage(content=result[\"messages\"][-1].content, name=\"Input_Checker\")\n",
    "            ]\n",
    "        },\n",
    "        goto=\"supervisor\",\n",
    "    )\n",
    "\n",
    "\n",
    "def double_node(state: State) -> Command[Literal[\"supervisor\"]]:\n",
    "    result = double_agent.invoke(state)\n",
    "    \n",
    "\n",
    "    return Command(\n",
    "        update={\n",
    "            \"messages\": [\n",
    "                HumanMessage(content=result[\"messages\"][-1].content, name=\"doubler\")\n",
    "            ]\n",
    "        },\n",
    "        goto=\"texter\",\n",
    "    )\n",
    "\n",
    "\n",
    "# NOTE: THIS PERFORMS ARBITRARY CODE EXECUTION, WHICH CAN BE UNSAFE WHEN NOT SANDBOXED\n",
    "#code_agent = create_react_agent(llm, tools=[python_repl_tool])\n",
    "\n",
    "texter_agent = create_react_agent(\n",
    "    llm, tools=[], prompt=\"You convert the output of the doubler (integer) to text. Do not convert human input to text. Say what your input was and then its double in text and only deal with numbers and not the entire output of the doubler.\"\n",
    ")\n",
    "\n",
    "\n",
    "def text_node(state: State) -> Command[Literal[\"supervisor\"]]:\n",
    "    result = texter_agent.invoke(state)\n",
    "    return Command(\n",
    "        update={\n",
    "            \"messages\": [\n",
    "                HumanMessage(content=result[\"messages\"][-1].content, name=\"texter\")\n",
    "            ]\n",
    "        },\n",
    "        goto=\"supervisor\",\n",
    "    )\n",
    "\n",
    "\n",
    "builder = StateGraph(State)\n",
    "builder.add_edge(START, \"supervisor\")\n",
    "builder.add_node(\"supervisor\", supervisor_node)\n",
    "builder.add_node(\"doubler\", double_node)\n",
    "builder.add_node(\"texter\", text_node)\n",
    "builder.add_node(\"Input_Checker\", input_node)\n",
    "graph = builder.compile()"
   ]
  },
  {
   "cell_type": "code",
   "execution_count": 7,
   "metadata": {},
   "outputs": [
    {
     "data": {
      "image/png": "[encoded data removed]",
      "text/plain": [
       "<IPython.core.display.Image object>"
      ]
     },
     "metadata": {},
     "output_type": "display_data"
    }
   ],
   "source": [
    "from IPython.display import display, Image\n",
    "\n",
    "display(Image(graph.get_graph().draw_mermaid_png()))"
   ]
  },
  {
   "cell_type": "markdown",
   "metadata": {},
   "source": [
    "## Invoke the team"
   ]
  },
  {
   "cell_type": "code",
   "execution_count": 8,
   "metadata": {},
   "outputs": [],
   "source": [
    "def run(user_input: str):  \n",
    "    for s in graph.stream(\n",
    "        {\"messages\": [(\"user\", user_input)]}, subgraphs=True\n",
    "    ):\n",
    "        if isinstance(s, tuple) and len(s) > 1:\n",
    "            if \"supervisor\" in s[1] and \"next\" in s[1][\"supervisor\"]:\n",
    "                print(f\"Supervisor Next: {s[1]['supervisor']['next']}\")\n",
    "                print(\"----\")\n",
    "            \n",
    "            # Extract agent messages\n",
    "            agent_data = s[1].get(\"agent\")\n",
    "            if agent_data and \"messages\" in agent_data:\n",
    "                for message in agent_data[\"messages\"]:\n",
    "                    print(f\"Agent: {message.response_metadata.get('model_name', 'Unknown')}\") #if model name is not available, print Unknown\n",
    "                    print(f\"Message: {message.content}\")\n",
    "                    print(\"----\")"
   ]
  },
  {
   "cell_type": "code",
   "execution_count": 9,
   "metadata": {},
   "outputs": [
    {
     "name": "stdout",
     "output_type": "stream",
     "text": [
      "Supervisor Next: Input_Checker\n",
      "----\n",
      "Agent: gpt-4o-2024-08-06\n",
      "Message: The input was \"3\" and it is a number.\n",
      "----\n",
      "Supervisor Next: doubler\n",
      "----\n",
      "Agent: gpt-4o-2024-08-06\n",
      "Message: You input 3, and the result after doubling is 6.\n",
      "----\n",
      "Agent: gpt-4o-2024-08-06\n",
      "Message: Six\n",
      "----\n",
      "Supervisor Next: __end__\n",
      "----\n"
     ]
    }
   ],
   "source": [
    "run(\"3\")"
   ]
  },
  {
   "cell_type": "code",
   "execution_count": null,
   "metadata": {},
   "outputs": [
    {
     "name": "stdout",
     "output_type": "stream",
     "text": [
      "Supervisor Next: Input_Checker\n",
      "----\n",
      "Agent: gpt-4o-2024-08-06\n",
      "Message: Input rejected: \"Sneha\" is not a number. Please input a number.\n",
      "----\n",
      "Supervisor Next: __end__\n",
      "----\n"
     ]
    }
   ],
   "source": [
    "run(\"Tushar my man\")"
   ]
  }
 ],
 "metadata": {
  "kernelspec": {
   "display_name": "venv",
   "language": "python",
   "name": "python3"
  },
  "language_info": {
   "codemirror_mode": {
    "name": "ipython",
    "version": 3
   },
   "file_extension": ".py",
   "mimetype": "text/x-python",
   "name": "python",
   "nbconvert_exporter": "python",
   "pygments_lexer": "ipython3",
   "version": "3.12.6"
  }
 },
 "nbformat": 4,
 "nbformat_minor": 2
}
