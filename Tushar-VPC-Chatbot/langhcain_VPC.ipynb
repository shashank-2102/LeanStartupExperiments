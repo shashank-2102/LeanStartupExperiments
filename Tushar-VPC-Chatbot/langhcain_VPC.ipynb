{
 "cells": [
  {
   "cell_type": "markdown",
   "metadata": {},
   "source": [
    "# Links\n",
    "https://github.com/langchain-ai/langgraph/blob/main/docs/docs/tutorials/multi_agent/agent_supervisor.ipynb \\\n",
    "https://python.langchain.com/docs/integrations/tools/tavily_search/ \\\n",
    "https://tavily.com/ \\\n",
    "https://python.langchain.com/docs/integrations/chat/openai/"
   ]
  },
  {
   "cell_type": "code",
   "execution_count": null,
   "metadata": {},
   "outputs": [],
   "source": [
    "#%%capture --no-stderr\n",
    "#%pip install -U langgraph langchain_community langchain_anthropic langchain_experimental\n",
    "#%pip install -U langchain-openai"
   ]
  },
  {
   "cell_type": "code",
   "execution_count": 1,
   "metadata": {},
   "outputs": [],
   "source": [
    "#imports\n",
    "\n",
    "import getpass\n",
    "import os\n",
    "from dotenv import load_dotenv\n",
    "import time\n",
    "from typing import Annotated\n",
    "from typing import Literal\n",
    "from typing_extensions import TypedDict\n",
    "from IPython.display import display, Image\n",
    "\n",
    "from langchain_community.tools.tavily_search import TavilySearchResults\n",
    "from langchain_core.tools import tool\n",
    "from langchain_experimental.utilities import PythonREPL\n",
    "\n",
    "#from langchain_anthropic import ChatAnthropic\n",
    "from langchain_openai import ChatOpenAI\n",
    "from langgraph.graph import MessagesState, END\n",
    "from langgraph.types import Command\n",
    "\n",
    "from langchain_core.messages import HumanMessage\n",
    "from langgraph.graph import StateGraph, START, END\n",
    "from langgraph.prebuilt import create_react_agent\n",
    "\n"
   ]
  },
  {
   "cell_type": "code",
   "execution_count": 2,
   "metadata": {},
   "outputs": [],
   "source": [
    "#get the keys\n",
    "def _set_if_undefined(var: str):\n",
    "    if not os.getenv(var):\n",
    "        os.environ[var] = getpass.getpass(f\"Please provide your {var}\")\n",
    "        #print(\"API key error\")\n",
    "\n",
    "_set_if_undefined(\"OPENAI_API_KEY\")\n",
    "_set_if_undefined(\"TAVILY_API_KEY\")"
   ]
  },
  {
   "cell_type": "markdown",
   "metadata": {},
   "source": [
    "## Create Tools"
   ]
  },
  {
   "cell_type": "code",
   "execution_count": 3,
   "metadata": {},
   "outputs": [],
   "source": [
    "tavily_tool = TavilySearchResults(max_results=5)\n",
    "\n",
    "@tool\n",
    "def search_for_business_insights(query: str) -> str:\n",
    "    \"\"\"\n",
    "    Search the web for business insights, market trends, and competitive analysis to help with \n",
    "    creating a Value Proposition Canvas.\n",
    "    \n",
    "    Args:\n",
    "        query: A search query related to business ideas, market analysis, customer needs, or competitors.\n",
    "        \n",
    "    Returns:\n",
    "        Relevant information from the web that can help in developing a Value Proposition Canvas.\n",
    "    \"\"\"\n",
    "    search_results = tavily_tool.invoke(query)\n",
    "    \n",
    "    # Format the results for better readability\n",
    "    formatted_results = \"## Web Search Results\\n\\n\"\n",
    "    for i, result in enumerate(search_results, 1):\n",
    "        formatted_results += f\"### Result {i}: {result.get('title', 'No Title')}\\n\"\n",
    "        formatted_results += f\"{result.get('content', 'No content available')}\\n\\n\"\n",
    "        formatted_results += f\"Source: {result.get('url', 'No URL')}\\n\\n\"\n",
    "        formatted_results += \"---\\n\\n\"\n",
    "    \n",
    "    return formatted_results\n",
    "\n",
    "\n",
    "#prompt loader\n",
    "def load_prompt(file_name: str, name: str):\n",
    "    with open(f\"../prompts/{file_name}.txt\", \"r\", encoding='utf-8') as file:\n",
    "        name = file.read()\n",
    "    return name\n",
    "\n",
    "#load_prompt(\"Agent_A_test\", \"Agent_A_prompt\")"
   ]
  },
  {
   "cell_type": "markdown",
   "metadata": {},
   "source": [
    "## Create Agent Supervisor"
   ]
  },
  {
   "cell_type": "code",
   "execution_count": 4,
   "metadata": {},
   "outputs": [],
   "source": [
    "members = [\"Input_Checker\", \"VPC\", \"Output_Checker\"]\n",
    "# Our team supervisor is an LLM node. It just picks the next agent to process\n",
    "# and decides when the work is completed\n",
    "options = members + [\"FINISH\"]\n",
    "\n",
    "\n",
    "\n",
    "system_prompt = (\n",
    "    \"You are a supervisor tasked with managing a conversation between the\"\n",
    "    f\" following workers: {members}. Given the following user request,\"\n",
    "    \" respond with the worker to act next. Each worker will perform a\"\n",
    "    \" task and respond with their results and status. When ypu require,\"\n",
    "    \" user input just output USER INPUT NEEDED\"\n",
    "    \" if the input is valid and input agent says ACCEPTED forward it to the vpc_agent\"\n",
    "    \" if the input agent says the input is INVALID respond with FINISH and tell the user the input is invalid.\"\n",
    ")\n",
    "\n",
    "\n",
    "class Router(TypedDict):\n",
    "    \"\"\"Worker to route to next. If no workers needed, route to FINISH.\"\"\"\n",
    "\n",
    "    next: Literal[*options]\n",
    "\n",
    "\n",
    "llm = ChatOpenAI(\n",
    "    model=\"gpt-4o\",\n",
    "    temperature=0,\n",
    "    max_tokens=None,\n",
    "    timeout=None,\n",
    "    max_retries=2,\n",
    ")\n",
    "\n",
    "\n",
    "class State(MessagesState):\n",
    "    next: str\n",
    "\n",
    "\n",
    "def supervisor_node(state: State) -> Command[Literal[*members, \"__end__\"]]:\n",
    "    messages = [\n",
    "        {\"role\": \"system\", \"content\": system_prompt},\n",
    "    ] + state[\"messages\"]\n",
    "    response = llm.with_structured_output(Router).invoke(messages)\n",
    "    goto = response[\"next\"]\n",
    "    if goto == \"FINISH\":\n",
    "        goto = END\n",
    "\n",
    "    return Command(goto=goto, update={\"next\": goto})"
   ]
  },
  {
   "cell_type": "markdown",
   "metadata": {},
   "source": [
    "## Prompts"
   ]
  },
  {
   "cell_type": "code",
   "execution_count": 5,
   "metadata": {},
   "outputs": [],
   "source": [
    "VPC_prompt = load_prompt(\"prompt_VPC_CUT\", \"VPC_CUT_prompt\") + \"When you require user input (ie after your output) say USER INPUT NEEDED\"\n",
    "\n",
    "\n",
    "input_agent_prompt = load_prompt(\"Agent_A_test\", \"Agent_A_prompt\")\n",
    "\n",
    "output_agent_prompt = \"You are output agent, you are supposed to oversee whether the supervisor provides sane output answering the users' query\" + \"If the VPC agent says USER INPUT NEEDED ONLY OUTPUT'USER INPUT NEEDED'\"\n",
    "\n",
    "task_prompt = \"The user can give you a range of business ideas, normal ones like creating new types of toys to outlandish ones like organic gmo pet food for parrots. You should entertain these ideas as long as they are about the business idea and its value proposition (canvas) or VPC. If it deviates to other tasks then it is out of scope. Do not be extremely strict. If the input is INVALID say 'INVALID' and tell the user the input is invalid. Be very lenient with the user's input regaring things like the type of approaches.\"\n"
   ]
  },
  {
   "cell_type": "markdown",
   "metadata": {},
   "source": [
    "## Construct Graph"
   ]
  },
  {
   "cell_type": "code",
   "execution_count": 6,
   "metadata": {},
   "outputs": [],
   "source": [
    "input_agent = create_react_agent(\n",
    "    llm, tools=[], prompt= input_agent_prompt + task_prompt\n",
    ")\n",
    "\n",
    "VPC_agent = create_react_agent(\n",
    "    llm, tools=[search_for_business_insights], prompt= VPC_prompt    \n",
    ")\n",
    "\n",
    "output_agent = create_react_agent(\n",
    "    llm, tools=[], prompt= output_agent_prompt\n",
    ")\n",
    "\n",
    "def input_node(state: State) -> Command[Literal[\"supervisor\"]]:\n",
    "    result = input_agent.invoke(state)\n",
    "    \n",
    "\n",
    "    return Command(\n",
    "        update={\n",
    "            \"messages\": [\n",
    "                HumanMessage(content=result[\"messages\"][-1].content, name=\"Input_Checker\")\n",
    "            ]\n",
    "        },\n",
    "        goto=\"VPC\",\n",
    "    )\n",
    "\n",
    "\n",
    "def VPC_node(state: State) -> Command[Literal[\"supervisor\"]]:\n",
    "    result = VPC_agent.invoke(state)\n",
    "    \n",
    "\n",
    "    return Command(\n",
    "        update={\n",
    "            \"messages\": [\n",
    "                HumanMessage(content=result[\"messages\"][-1].content, name=\"VPC\")\n",
    "            ]\n",
    "        },\n",
    "        goto=\"supervisor\",\n",
    "    )\n",
    "\n",
    "\n",
    "def output_node(state: State) -> Command[Literal[\"supervisor\"]]:\n",
    "    result = output_agent.invoke(state)\n",
    "    \n",
    "\n",
    "    return Command(\n",
    "        update={\n",
    "            \"messages\": [\n",
    "                HumanMessage(content=result[\"messages\"][-1].content, name=\"Output_Checker\")\n",
    "            ]\n",
    "        },\n",
    "        goto=\"supervisor\",\n",
    "    )\n",
    "\n",
    "builder = StateGraph(State)\n",
    "builder.add_edge(START, \"supervisor\")\n",
    "builder.add_node(\"supervisor\", supervisor_node)\n",
    "builder.add_node(\"VPC\", VPC_node)\n",
    "builder.add_node(\"Input_Checker\", input_node)\n",
    "builder.add_node(\"Output_Checker\", output_node)\n",
    "graph = builder.compile()"
   ]
  },
  {
   "cell_type": "code",
   "execution_count": 7,
   "metadata": {},
   "outputs": [
    {
     "data": {
      "image/png": "[encoded data removed]",
      "text/plain": [
       "<IPython.core.display.Image object>"
      ]
     },
     "metadata": {},
     "output_type": "display_data"
    }
   ],
   "source": [
    "#Display graph\n",
    "display(Image(graph.get_graph().draw_mermaid_png()))"
   ]
  },
  {
   "cell_type": "markdown",
   "metadata": {},
   "source": [
    "## Invoke the team"
   ]
  },
  {
   "cell_type": "code",
   "execution_count": 8,
   "metadata": {},
   "outputs": [],
   "source": [
    "def run_simple(user_input: str):\n",
    "    time_start = time.time()  \n",
    "    for s in graph.stream(\n",
    "        {\"messages\": [(\"user\", user_input)]}, subgraphs=True\n",
    "    ):\n",
    "        if isinstance(s, tuple) and len(s) > 1:\n",
    "            if \"supervisor\" in s[1] and \"next\" in s[1][\"supervisor\"]:\n",
    "                print(f\"Supervisor Next: {s[1]['supervisor']['next']}\")\n",
    "                print(\"----\")\n",
    "            \n",
    "            # Extract agent messages\n",
    "            agent_data = s[1].get(\"agent\")\n",
    "            if agent_data and \"messages\" in agent_data:\n",
    "                for message in agent_data[\"messages\"]:\n",
    "                    print(f\"Agent: {message.response_metadata.get('model_name', 'Unknown')}\") #if model name is not available, print Unknown\n",
    "                    print(f\"Message: {message.content}\")\n",
    "                    time_end = time.time()\n",
    "                    print(f\"Time taken: {time_end - time_start}\")\n",
    "                    print(\"----\")"
   ]
  },
  {
   "cell_type": "code",
   "execution_count": 9,
   "metadata": {},
   "outputs": [],
   "source": [
    "#un_simple(\" Hi, create me a VPC for an idea on building electronic devices out of paper\")"
   ]
  },
  {
   "cell_type": "code",
   "execution_count": 14,
   "metadata": {},
   "outputs": [],
   "source": [
    "def run_iter(user_input: str):\n",
    "    # Just like run_simple but takes user input after each step when requested by the model.\n",
    "    time_start = time.time()\n",
    "    state = {\"messages\": [(\"user\", user_input)]}\n",
    "    \n",
    "    # Continue processing until there is no new \"USER INPUT\" trigger.\n",
    "    while True:\n",
    "        user_input_triggered = False  # Flag to check if a \"USER INPUT\" prompt occurred.\n",
    "        for s in graph.stream(state, subgraphs=True):\n",
    "            if isinstance(s, tuple) and len(s) > 1:\n",
    "                # Display supervisor routing info if available.\n",
    "                if \"supervisor\" in s[1] and \"next\" in s[1][\"supervisor\"]:\n",
    "                    print(f\"Supervisor Next: {s[1]['supervisor']['next']}\")\n",
    "                    print(\"----\")\n",
    "                \n",
    "                # Extract agent messages.\n",
    "                agent_data = s[1].get(\"agent\")\n",
    "                if agent_data and \"messages\" in agent_data:\n",
    "                    for message in agent_data[\"messages\"]:\n",
    "                        model_name = message.response_metadata.get('model_name', 'Unknown')\n",
    "                        print(f\"Agent: {model_name}\")\n",
    "                        print(f\"Message: {message.content}\")\n",
    "                        time_end = time.time()\n",
    "                        print(f\"Time taken: {time_end - time_start}\")\n",
    "                        print(\"----\")\n",
    "                        # Check if the message contains a trigger for user input.\n",
    "                        if (\"USER INPUT NEEDED\" in message.content \n",
    "                            or \"REQUEST CLARIFICATION INPUT\" in message.content \n",
    "                            or \"INVALID\" in message.content):\n",
    "                            time.sleep(1)  # Small delay so that the message is visible.\n",
    "                            new_input = input(\"Enter your response: \")\n",
    "                            print(\"USER INPUT:\", new_input)\n",
    "                            print(\"----\")\n",
    "                            if new_input.lower() == \"exit\":\n",
    "                                return\n",
    "                            # Append the new user input to the existing messages for context.\n",
    "                            state[\"messages\"].append((\"user\", new_input))\n",
    "                            user_input_triggered = True\n",
    "                            # Break out of inner loop to resume streaming with the updated state.\n",
    "                            break\n",
    "                    if user_input_triggered:\n",
    "                        # Break out of the outer stream loop if we just received new input.\n",
    "                        break\n",
    "        # Exit the loop if no new input was triggered.\n",
    "        if not user_input_triggered:\n",
    "            break"
   ]
  },
  {
   "cell_type": "code",
   "execution_count": null,
   "metadata": {},
   "outputs": [
    {
     "name": "stdout",
     "output_type": "stream",
     "text": [
      "Supervisor Next: Input_Checker\n",
      "----\n",
      "Agent: gpt-4o-2024-08-06\n",
      "Message: Create a Value Proposition Canvas (VPC) for building wooden electric mini race cars. ACCEPTED\n",
      "Time taken: 1.5218274593353271\n",
      "----\n",
      "Agent: gpt-4o-2024-08-06\n",
      "Message: To create a Value Proposition Canvas for your business idea of building wooden electric mini race cars, we will follow a structured process. Let's start with Step 1.\n",
      "\n",
      "### Step 1: Customization of Approach and Uniqueness/Nicheness of Customers\n",
      "\n",
      "Would you prefer a standard approach or a more creative approach for your business idea? A standard approach will focus on more common and general market segments while the creative approach will focus on niche or less well-known markets which might be smaller but also easier to target and saturate.\n",
      "\n",
      "USER INPUT NEEDED\n",
      "Time taken: 3.9427988529205322\n",
      "----\n",
      "USER INPUT: I like apples\n",
      "----\n",
      "Supervisor Next: Input_Checker\n",
      "----\n",
      "Agent: gpt-4o-2024-08-06\n",
      "Message: [SORRY, INPUT DEVIATES FROM TASK. PLEASE TRY AGAIN]\n",
      "Time taken: 8.933293104171753\n",
      "----\n",
      "Agent: gpt-4o-2024-08-06\n",
      "Message: I'm here to help you create a Value Proposition Canvas for your business idea. Let's focus on that. How would you like to proceed with your VPC? Would you prefer a standard approach or a more creative approach for your business idea? A standard approach will focus on more common and general market segments while the creative approach will focus on niche or less well-known markets which might be smaller but also easier to target and saturate. USER INPUT NEEDED\n",
      "Time taken: 11.002097129821777\n",
      "----\n",
      "USER INPUT: I want a creative and collaborative approach\n",
      "----\n",
      "Supervisor Next: Input_Checker\n",
      "----\n",
      "Agent: gpt-4o-2024-08-06\n",
      "Message: Create me a VPC for building wooden electric mini race cars with a creative and collaborative approach. ACCEPTED\n",
      "Time taken: 32.26338458061218\n",
      "----\n",
      "Agent: gpt-4o-2024-08-06\n",
      "Message: Great! Let's start by customizing our approach to focus on niche customer segments and employ innovative strategies. We'll work together step-by-step to create a Value Proposition Canvas for your idea of building wooden electric mini race cars.\n",
      "\n",
      "### Step 1: Customization of Approach and Uniqueness/Nicheness of Customers\n",
      "\n",
      "Since you've chosen a creative approach, we'll focus on identifying unique customer segments that might be interested in wooden electric mini race cars. These could include hobbyists, eco-conscious consumers, or educational institutions looking for innovative STEM projects.\n",
      "\n",
      "Now, let's move on to understanding your business idea in more detail.\n",
      "\n",
      "### Step 2: Idea Understanding\n",
      "\n",
      "- **What is your business idea?**\n",
      "  - Building wooden electric mini race cars.\n",
      "\n",
      "- **Who are your intended customers?**\n",
      "  - Please provide more details about your target audience. Are you focusing on hobbyists, educational institutions, or another specific group?\n",
      "\n",
      "Once I have this information, I'll perform a web search to gather insights on existing competitors and market trends. USER INPUT NEEDED\n",
      "Time taken: 35.91080045700073\n",
      "----\n"
     ]
    }
   ],
   "source": [
    "run_iter(\" Create me a VPC for an for building wooden electric mini race cars\")"
   ]
  }
 ],
 "metadata": {
  "kernelspec": {
   "display_name": "venv",
   "language": "python",
   "name": "python3"
  },
  "language_info": {
   "codemirror_mode": {
    "name": "ipython",
    "version": 3
   },
   "file_extension": ".py",
   "mimetype": "text/x-python",
   "name": "python",
   "nbconvert_exporter": "python",
   "pygments_lexer": "ipython3",
   "version": "3.12.6"
  }
 },
 "nbformat": 4,
 "nbformat_minor": 2
}
